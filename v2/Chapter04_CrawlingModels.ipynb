{
 "cells": [
  {
   "cell_type": "code",
   "execution_count": null,
   "metadata": {
    "collapsed": true
   },
   "outputs": [],
   "source": [
    "import requests\n",
    "from bs4 import BeautifulSoup"
   ]
  },
  {
   "cell_type": "code",
   "execution_count": null,
   "metadata": {
    "collapsed": true
   },
   "outputs": [],
   "source": [
    "class Content:\n",
    "    \"\"\"Common base class for all articles/pages\"\"\"\n",
    "\n",
    "    def __init__(self, title, body, url):\n",
    "        self.title = title\n",
    "        self.body = body\n",
    "        self.url = url\n",
    "\n",
    "    def print(self):\n",
    "        \"\"\"\n",
    "        Flexible printing function controls output\n",
    "        \"\"\"\n",
    "        print(\"New article found for: {}\".format(self.topic))\n",
    "        print(\"TITLE: {}\".format(self.title))\n",
    "        print(\"BODY:\\n{}\".format(self.body))\n",
    "        print(\"URL: {}\".format(self.url))\n",
    "\n",
    "class Website:\n",
    "    'Common base class for all articles/pages'\n",
    "\n",
    "    def __init__(pageTitle, pageBody):\n",
    "        self.name = name\n",
    "        self.url = url\n",
    "        self.pageTitle = pageTitle\n",
    "        self.pageBody = pageBody"
   ]
  },
  {
   "cell_type": "code",
   "execution_count": null,
   "metadata": {
    "collapsed": true
   },
   "outputs": [],
   "source": [
    "class Crawler:\n",
    "\n",
    "    def getPage(self, url):\n",
    "        \"\"\"\n",
    "        Utilty function used to get a Beautiful Soup object from a given URL\n",
    "        \"\"\"\n",
    "        print(\"Retrieving URL:\\n{}\".format(url))\n",
    "        session = requests.Session()\n",
    "        headers = {\"User-Agent\":\"Mozilla/5.0 (Macintosh; Intel Mac OS X 10_9_5) AppleWebKit/537.36 (KHTML, like Gecko) Chrome/39.0.2171.95 Safari/537.36\", \"Accept\":\"text/html,application/xhtml+xml,application/xml;q=0.9,image/webp,*/*;q=0.8\"}\n",
    "        try:\n",
    "            req = session.get(url, headers=headers)\n",
    "        except requests.exceptions.RequestException:\n",
    "            return None\n",
    "        bsObj = BeautifulSoup(req.text, \"lxml\")\n",
    "        return bsObj\n",
    "\n",
    "    def safeGet(self, pageObj, selector):\n",
    "        \"\"\"\n",
    "        Utilty function used to get a content string from a Beautiful Soup\n",
    "        object and a selector. Returns an empty string if no object\n",
    "        is found for the given selector\n",
    "        \"\"\"\n",
    "        childObj = pageObj.select(selector)\n",
    "        if childObj is not None and len(childObj) > 0:\n",
    "            return childObj[0].get_text()\n",
    "        return \"\"\n",
    "\n",
    "    def parse(self, site, url):\n",
    "        \"\"\"\n",
    "        Extract content from a given page URL\n",
    "        \"\"\"\n",
    "        pageObj = self.getPage(url)\n",
    "        title = self.safeGet(pageObj, site.pageTitle)\n",
    "        body = self.safeGet(pageObj, site.pageBody)\n",
    "        if title != \"\" and body != \"\":\n",
    "            content = Content(topic, title, body, url)\n",
    "            content.print()"
   ]
  },
  {
   "cell_type": "code",
   "execution_count": 2,
   "metadata": {},
   "outputs": [
    {
     "ename": "ModuleNotFoundError",
     "evalue": "No module named 'Crawler'",
     "output_type": "error",
     "traceback": [
      "\u001b[0;31m---------------------------------------------------------------------------\u001b[0m",
      "\u001b[0;31mModuleNotFoundError\u001b[0m                       Traceback (most recent call last)",
      "\u001b[0;32m<ipython-input-2-addebdeaf6ad>\u001b[0m in \u001b[0;36m<module>\u001b[0;34m()\u001b[0m\n\u001b[0;32m----> 1\u001b[0;31m \u001b[0;32mimport\u001b[0m \u001b[0mCrawler\u001b[0m\u001b[0;34m\u001b[0m\u001b[0m\n\u001b[0m\u001b[1;32m      2\u001b[0m \u001b[0;32mimport\u001b[0m \u001b[0mContent\u001b[0m\u001b[0;34m\u001b[0m\u001b[0m\n\u001b[1;32m      3\u001b[0m \u001b[0;32mimport\u001b[0m \u001b[0mWebsite\u001b[0m\u001b[0;34m\u001b[0m\u001b[0m\n\u001b[1;32m      4\u001b[0m \u001b[0;34m\u001b[0m\u001b[0m\n\u001b[1;32m      5\u001b[0m \u001b[0mcrawler\u001b[0m \u001b[0;34m=\u001b[0m \u001b[0mCrawler\u001b[0m\u001b[0;34m(\u001b[0m\u001b[0;34m)\u001b[0m\u001b[0;34m\u001b[0m\u001b[0m\n",
      "\u001b[0;31mModuleNotFoundError\u001b[0m: No module named 'Crawler'"
     ]
    }
   ],
   "source": [
    "\n",
    "\n",
    "crawler = Crawler()\n",
    "\n",
    "siteData = [\n",
    "    [\"O'Reilly Media\",\"http://oreilly.com\",\"https://ssearch.oreilly.com/?q=\", \"article.product-result\",\"p.title a\",True,\"h1\",\"section#product-description\"],\n",
    "    [\"Reuters\",\"http://reuters.com\",\"http://www.reuters.com/search/news?blob=\",\"div.search-result-content\",\"h3.search-result-title a\",False,\"h1\",\"div.ArticleBody_body_2ECha\"],\n",
    "    [\"Brookings\",\"http://www.brookings.edu\",\"https://www.brookings.edu/search/?s=\",\"div.list-content article\",\"h4.title a\",True,\"h1\",\"div.post-body\"]\n",
    "    ]\n",
    "sites = []\n",
    "for row in siteData:\n",
    "    sites.append(Website(row[0], row[1], row[2], row[3], row[4], row[5], row[6], row[7]))\n",
    "\n",
    "crawler.parse(sites[0], \"http://shop.oreilly.com/product/0636920028154.do\")\n",
    "crawler.parse(sites[1], \"http://www.reuters.com/article/us-usa-epa-pruitt-idUSKBN19W2D0\")\n",
    "crawler.parse(sites[2], \"https://www.brookings.edu/blog/techtank/2016/03/01/idea-to-retire-old-methods-of-policy-education/\")"
   ]
  },
  {
   "cell_type": "code",
   "execution_count": null,
   "metadata": {
    "collapsed": true
   },
   "outputs": [],
   "source": []
  }
 ],
 "metadata": {
  "kernelspec": {
   "display_name": "Python 3",
   "language": "python",
   "name": "python3"
  },
  "language_info": {
   "codemirror_mode": {
    "name": "ipython",
    "version": 3
   },
   "file_extension": ".py",
   "mimetype": "text/x-python",
   "name": "python",
   "nbconvert_exporter": "python",
   "pygments_lexer": "ipython3",
   "version": "3.6.1"
  }
 },
 "nbformat": 4,
 "nbformat_minor": 2
}
